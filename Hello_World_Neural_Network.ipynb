{
  "nbformat": 4,
  "nbformat_minor": 0,
  "metadata": {
    "colab": {
      "name": "Hello World Neural Network.ipynb",
      "provenance": [],
      "machine_shape": "hm",
      "authorship_tag": "ABX9TyMjrMWRQ3FxJXDes/EdstXX",
      "include_colab_link": true
    },
    "kernelspec": {
      "name": "python3",
      "display_name": "Python 3"
    },
    "language_info": {
      "name": "python"
    },
    "accelerator": "GPU"
  },
  "cells": [
    {
      "cell_type": "markdown",
      "metadata": {
        "id": "view-in-github",
        "colab_type": "text"
      },
      "source": [
        "<a href=\"https://colab.research.google.com/github/Code-Trees/Learning_NLP/blob/main/Hello_World_Neural_Network.ipynb\" target=\"_parent\"><img src=\"https://colab.research.google.com/assets/colab-badge.svg\" alt=\"Open In Colab\"/></a>"
      ]
    },
    {
      "cell_type": "code",
      "source": [
        "!nvidia-smi"
      ],
      "metadata": {
        "colab": {
          "base_uri": "https://localhost:8080/"
        },
        "id": "BpxOoggvx6HV",
        "outputId": "49cbfc4b-90f4-4610-a54c-6c9aed6925f6"
      },
      "execution_count": 1,
      "outputs": [
        {
          "output_type": "stream",
          "name": "stdout",
          "text": [
            "Tue Jun  7 12:01:38 2022       \n",
            "+-----------------------------------------------------------------------------+\n",
            "| NVIDIA-SMI 460.32.03    Driver Version: 460.32.03    CUDA Version: 11.2     |\n",
            "|-------------------------------+----------------------+----------------------+\n",
            "| GPU  Name        Persistence-M| Bus-Id        Disp.A | Volatile Uncorr. ECC |\n",
            "| Fan  Temp  Perf  Pwr:Usage/Cap|         Memory-Usage | GPU-Util  Compute M. |\n",
            "|                               |                      |               MIG M. |\n",
            "|===============================+======================+======================|\n",
            "|   0  Tesla P100-PCIE...  Off  | 00000000:00:04.0 Off |                    0 |\n",
            "| N/A   34C    P0    27W / 250W |      0MiB / 16280MiB |      0%      Default |\n",
            "|                               |                      |                  N/A |\n",
            "+-------------------------------+----------------------+----------------------+\n",
            "                                                                               \n",
            "+-----------------------------------------------------------------------------+\n",
            "| Processes:                                                                  |\n",
            "|  GPU   GI   CI        PID   Type   Process name                  GPU Memory |\n",
            "|        ID   ID                                                   Usage      |\n",
            "|=============================================================================|\n",
            "|  No running processes found                                                 |\n",
            "+-----------------------------------------------------------------------------+\n"
          ]
        }
      ]
    },
    {
      "cell_type": "code",
      "execution_count": 2,
      "metadata": {
        "colab": {
          "base_uri": "https://localhost:8080/",
          "height": 34
        },
        "id": "bxzbgcoxxTGR",
        "outputId": "b2afcdf5-d8b3-434b-f945-bc3eeef5d8dc"
      },
      "outputs": [
        {
          "output_type": "display_data",
          "data": {
            "application/javascript": [
              "IPython.notebook.set_autosave_interval(10000)"
            ]
          },
          "metadata": {}
        },
        {
          "output_type": "stream",
          "name": "stdout",
          "text": [
            "Autosaving every 10 seconds\n"
          ]
        }
      ],
      "source": [
        "from IPython.core.interactiveshell import InteractiveShell\n",
        "InteractiveShell.ast_node_interactivity = 'all'\n",
        "%autosave 10"
      ]
    },
    {
      "cell_type": "code",
      "source": [
        "import torch\n",
        "import torch.nn as nn\n",
        "import torch.nn.functional as f\n",
        "import torch.optim as optim\n",
        "\n",
        "from torchsummary import summary\n",
        "from torch.autograd import Variable\n",
        "\n",
        "import numpy as np\n",
        "import matplotlib.pyplot as plt"
      ],
      "metadata": {
        "id": "mBpfqtUGx5T0"
      },
      "execution_count": 3,
      "outputs": []
    },
    {
      "cell_type": "code",
      "source": [
        "torch.__version__"
      ],
      "metadata": {
        "colab": {
          "base_uri": "https://localhost:8080/",
          "height": 38
        },
        "id": "1b7T_Fn4yQQQ",
        "outputId": "eedd683e-7617-40a6-b01b-a0d59ac22f90"
      },
      "execution_count": 4,
      "outputs": [
        {
          "output_type": "execute_result",
          "data": {
            "text/plain": [
              "'1.11.0+cu113'"
            ],
            "application/vnd.google.colaboratory.intrinsic+json": {
              "type": "string"
            }
          },
          "metadata": {},
          "execution_count": 4
        }
      ]
    },
    {
      "cell_type": "code",
      "source": [
        "torch.manual_seed(1)"
      ],
      "metadata": {
        "colab": {
          "base_uri": "https://localhost:8080/"
        },
        "id": "HPwBA8YoykTO",
        "outputId": "45fd70bb-6e3c-4e77-8ec9-18af16a3d2eb"
      },
      "execution_count": 5,
      "outputs": [
        {
          "output_type": "execute_result",
          "data": {
            "text/plain": [
              "<torch._C.Generator at 0x7f0abefe4350>"
            ]
          },
          "metadata": {},
          "execution_count": 5
        }
      ]
    },
    {
      "cell_type": "code",
      "source": [
        "#Preparing the bata"
      ],
      "metadata": {
        "id": "ifmfm5bXzEd8"
      },
      "execution_count": 6,
      "outputs": []
    },
    {
      "cell_type": "code",
      "source": [
        "X = torch.Tensor([[0,0],[0,1],[1,0],[1,1]])\n",
        "Y = torch.Tensor([0,1,1,0]).view(-1,1)"
      ],
      "metadata": {
        "id": "V_jcOXZwypoH"
      },
      "execution_count": 7,
      "outputs": []
    },
    {
      "cell_type": "code",
      "source": [
        "X\n",
        "Y"
      ],
      "metadata": {
        "colab": {
          "base_uri": "https://localhost:8080/"
        },
        "id": "XPvsrTYTy-R5",
        "outputId": "6f90372d-b107-48dd-e5fe-394ca33fa465"
      },
      "execution_count": null,
      "outputs": [
        {
          "output_type": "execute_result",
          "data": {
            "text/plain": [
              "tensor([[0., 0.],\n",
              "        [0., 1.],\n",
              "        [1., 0.],\n",
              "        [1., 1.]])"
            ]
          },
          "metadata": {},
          "execution_count": 45
        },
        {
          "output_type": "execute_result",
          "data": {
            "text/plain": [
              "tensor([[0.],\n",
              "        [1.],\n",
              "        [1.],\n",
              "        [0.]])"
            ]
          },
          "metadata": {},
          "execution_count": 45
        }
      ]
    },
    {
      "cell_type": "code",
      "source": [
        "class XOR(nn.Module):\n",
        "    def __init__(self,input_dim = 2, output_dim = 1):\n",
        "        super(XOR,self).__init__()\n",
        "        self.layer1 = nn.Linear(in_features = input_dim,out_features = 2)\n",
        "        self.layer2 = nn.Linear(in_features = 2,out_features= output_dim)\n",
        "    \n",
        "    def forward(self,x):\n",
        "        x = self.layer1(x)\n",
        "        x = f.tanh(x)\n",
        "        x = self.layer2(x)\n",
        "        x = f.tanh(x)\n",
        "        return x\n"
      ],
      "metadata": {
        "id": "S-cQa9lYzDis"
      },
      "execution_count": null,
      "outputs": []
    },
    {
      "cell_type": "code",
      "source": [
        "device = \"cuda\" if torch.cuda.is_available() else \"cpu\""
      ],
      "metadata": {
        "id": "St_Vpd5L1EvH"
      },
      "execution_count": null,
      "outputs": []
    },
    {
      "cell_type": "code",
      "source": [
        "X = X.to(device)\n",
        "Y = Y.to(device)"
      ],
      "metadata": {
        "id": "w52qEU8-1CkB"
      },
      "execution_count": null,
      "outputs": []
    },
    {
      "cell_type": "code",
      "source": [
        "model = XOR().to(device)\n",
        "summary(model,(2,2))"
      ],
      "metadata": {
        "colab": {
          "base_uri": "https://localhost:8080/"
        },
        "id": "jVeP5swz02SG",
        "outputId": "5e62ae8f-b4b2-409e-e184-da9cdfcfaeb5"
      },
      "execution_count": null,
      "outputs": [
        {
          "output_type": "stream",
          "name": "stdout",
          "text": [
            "----------------------------------------------------------------\n",
            "        Layer (type)               Output Shape         Param #\n",
            "================================================================\n",
            "            Linear-1                 [-1, 2, 2]               6\n",
            "            Linear-2                 [-1, 2, 1]               3\n",
            "================================================================\n",
            "Total params: 9\n",
            "Trainable params: 9\n",
            "Non-trainable params: 0\n",
            "----------------------------------------------------------------\n",
            "Input size (MB): 0.00\n",
            "Forward/backward pass size (MB): 0.00\n",
            "Params size (MB): 0.00\n",
            "Estimated Total Size (MB): 0.00\n",
            "----------------------------------------------------------------\n"
          ]
        },
        {
          "output_type": "stream",
          "name": "stderr",
          "text": [
            "/usr/local/lib/python3.7/dist-packages/torch/nn/functional.py:1933: UserWarning: nn.functional.tanh is deprecated. Use torch.tanh instead.\n",
            "  warnings.warn(\"nn.functional.tanh is deprecated. Use torch.tanh instead.\")\n"
          ]
        }
      ]
    },
    {
      "cell_type": "code",
      "source": [
        "for m in model.modules():\n",
        "    print (m)\n",
        "    print('------------')"
      ],
      "metadata": {
        "colab": {
          "base_uri": "https://localhost:8080/"
        },
        "id": "teC-Ntr6MzAW",
        "outputId": "e08c9a66-dd8b-426c-d1a7-1f3a76afb353"
      },
      "execution_count": null,
      "outputs": [
        {
          "output_type": "stream",
          "name": "stdout",
          "text": [
            "XOR(\n",
            "  (layer1): Linear(in_features=2, out_features=2, bias=True)\n",
            "  (layer2): Linear(in_features=2, out_features=1, bias=True)\n",
            ")\n",
            "------------\n",
            "Linear(in_features=2, out_features=2, bias=True)\n",
            "------------\n",
            "Linear(in_features=2, out_features=1, bias=True)\n",
            "------------\n"
          ]
        }
      ]
    },
    {
      "cell_type": "code",
      "source": [
        "isinstance(m, nn.Linear)"
      ],
      "metadata": {
        "colab": {
          "base_uri": "https://localhost:8080/"
        },
        "id": "DDX5hBTTNDxn",
        "outputId": "3cc78c4c-a45e-48fb-a3fa-a9c9c9b05570"
      },
      "execution_count": null,
      "outputs": [
        {
          "output_type": "execute_result",
          "data": {
            "text/plain": [
              "True"
            ]
          },
          "metadata": {},
          "execution_count": 51
        }
      ]
    },
    {
      "cell_type": "code",
      "source": [
        ""
      ],
      "metadata": {
        "id": "JtIOEcikNple"
      },
      "execution_count": null,
      "outputs": []
    },
    {
      "cell_type": "code",
      "source": [
        "def weight_init(model):\n",
        "    for m in model.modules():\n",
        "        if isinstance(m,nn.Linear):\n",
        "            m.weight.data.normal_(0,1)"
      ],
      "metadata": {
        "id": "2uKBXbG71BN9"
      },
      "execution_count": null,
      "outputs": []
    },
    {
      "cell_type": "code",
      "source": [
        "weight_init(model)"
      ],
      "metadata": {
        "id": "_o2oalJcOGY6"
      },
      "execution_count": null,
      "outputs": []
    },
    {
      "cell_type": "code",
      "source": [
        "loss_func = nn.L1Loss()\n",
        "optimizer = optim.SGD(model.parameters(),lr = 0.02, momentum = 0.9)"
      ],
      "metadata": {
        "id": "MIQ3LxiiRere"
      },
      "execution_count": null,
      "outputs": []
    },
    {
      "cell_type": "code",
      "source": [
        "epochs = 300\n",
        "steps = X.size(0)\n",
        "for i in range(epochs):\n",
        "    for j in range(steps):\n",
        "        data_point = np.random.randint(X.size(0))\n",
        "        x_var = Variable(X[data_point], requires_grad=False)\n",
        "        y_var = Variable(Y[data_point], requires_grad=False)\n",
        "        \n",
        "        optimizer.zero_grad()\n",
        "        y_hat = model(x_var)\n",
        "        loss = loss_func.forward(y_hat, y_var)\n",
        "        loss.backward()\n",
        "        optimizer.step()\n",
        "        \n",
        "    if i % 10 == 0:\n",
        "        print( \"Epoch: {0}, Loss: {1}, \".format(i, loss.data.to('cpu').numpy()))"
      ],
      "metadata": {
        "colab": {
          "base_uri": "https://localhost:8080/"
        },
        "id": "2yJm4SvBR_lu",
        "outputId": "4dccd56d-7274-416d-98e9-65b9f5d0cbc8"
      },
      "execution_count": null,
      "outputs": [
        {
          "output_type": "stream",
          "name": "stderr",
          "text": [
            "/usr/local/lib/python3.7/dist-packages/torch/nn/functional.py:1933: UserWarning: nn.functional.tanh is deprecated. Use torch.tanh instead.\n",
            "  warnings.warn(\"nn.functional.tanh is deprecated. Use torch.tanh instead.\")\n"
          ]
        },
        {
          "output_type": "stream",
          "name": "stdout",
          "text": [
            "Epoch: 0, Loss: 0.003622889518737793, \n",
            "Epoch: 10, Loss: 0.003423452377319336, \n",
            "Epoch: 20, Loss: 0.0031045079231262207, \n",
            "Epoch: 30, Loss: 0.99866783618927, \n",
            "Epoch: 40, Loss: 0.020838461816310883, \n",
            "Epoch: 50, Loss: 0.9987202286720276, \n",
            "Epoch: 60, Loss: 0.003239870071411133, \n",
            "Epoch: 70, Loss: 0.998889684677124, \n",
            "Epoch: 80, Loss: 0.34458667039871216, \n",
            "Epoch: 90, Loss: 0.9988843202590942, \n",
            "Epoch: 100, Loss: 0.002181410789489746, \n",
            "Epoch: 110, Loss: 0.9989968538284302, \n",
            "Epoch: 120, Loss: 0.0018964409828186035, \n",
            "Epoch: 130, Loss: 0.0019320845603942871, \n",
            "Epoch: 140, Loss: 0.11869387328624725, \n",
            "Epoch: 150, Loss: 0.0015169382095336914, \n",
            "Epoch: 160, Loss: 0.9991206526756287, \n",
            "Epoch: 170, Loss: 0.0022216439247131348, \n",
            "Epoch: 180, Loss: 0.2264317125082016, \n",
            "Epoch: 190, Loss: 0.0015106201171875, \n",
            "Epoch: 200, Loss: 0.002057969570159912, \n",
            "Epoch: 210, Loss: 0.9992165565490723, \n",
            "Epoch: 220, Loss: 0.002578258514404297, \n",
            "Epoch: 230, Loss: 0.0016823410987854004, \n",
            "Epoch: 240, Loss: 0.9992603659629822, \n",
            "Epoch: 250, Loss: 0.09572125226259232, \n",
            "Epoch: 260, Loss: 0.0018140673637390137, \n",
            "Epoch: 270, Loss: 0.0015992522239685059, \n",
            "Epoch: 280, Loss: 0.00916622206568718, \n",
            "Epoch: 290, Loss: 0.9993520379066467, \n"
          ]
        }
      ]
    },
    {
      "cell_type": "code",
      "source": [
        ""
      ],
      "metadata": {
        "id": "PLQAEL4RUysA"
      },
      "execution_count": null,
      "outputs": []
    }
  ]
}