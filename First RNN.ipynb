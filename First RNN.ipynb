{
 "cells": [
  {
   "cell_type": "code",
   "execution_count": 1,
   "id": "a6984828-b91e-42af-a10e-35d9633fb373",
   "metadata": {},
   "outputs": [
    {
     "data": {
      "application/javascript": [
       "IPython.notebook.set_autosave_interval(10000)"
      ]
     },
     "metadata": {},
     "output_type": "display_data"
    },
    {
     "name": "stdout",
     "output_type": "stream",
     "text": [
      "Autosaving every 10 seconds\n"
     ]
    }
   ],
   "source": [
    "from IPython.core.interactiveshell import InteractiveShell\n",
    "InteractiveShell.ast_node_interactivity = 'all'\n",
    "%autosave 10"
   ]
  },
  {
   "cell_type": "code",
   "execution_count": 2,
   "id": "1e53ee08-1a20-4c7e-a8aa-6d77778e4d6a",
   "metadata": {},
   "outputs": [],
   "source": [
    "import os\n",
    "\n",
    "import torch\n",
    "from torchtext import data,datasets"
   ]
  },
  {
   "cell_type": "code",
   "execution_count": 3,
   "id": "26c8b743-1974-4cde-b839-1958d771b969",
   "metadata": {},
   "outputs": [
    {
     "data": {
      "text/plain": [
       "<torch._C.Generator at 0x17528935490>"
      ]
     },
     "execution_count": 3,
     "metadata": {},
     "output_type": "execute_result"
    }
   ],
   "source": [
    "### Seed for Randomness\n",
    "SEED = 123\n",
    "torch.manual_seed(SEED)"
   ]
  },
  {
   "cell_type": "code",
   "execution_count": 4,
   "id": "624742f2-32cf-4402-bb31-3ebc2581ce7a",
   "metadata": {},
   "outputs": [
    {
     "name": "stdout",
     "output_type": "stream",
     "text": [
      "Coda Running in cuda\n",
      "Thu Jun 16 11:30:32 2022       \n",
      "+-----------------------------------------------------------------------------+\n",
      "| NVIDIA-SMI 512.95       Driver Version: 512.95       CUDA Version: 11.6     |\n",
      "|-------------------------------+----------------------+----------------------+\n",
      "| GPU  Name            TCC/WDDM | Bus-Id        Disp.A | Volatile Uncorr. ECC |\n",
      "| Fan  Temp  Perf  Pwr:Usage/Cap|         Memory-Usage | GPU-Util  Compute M. |\n",
      "|                               |                      |               MIG M. |\n",
      "|===============================+======================+======================|\n",
      "|   0  NVIDIA GeForce ... WDDM  | 00000000:01:00.0 Off |                  N/A |\n",
      "| N/A   52C    P0    34W /  N/A |      0MiB / 16384MiB |      0%      Default |\n",
      "|                               |                      |                  N/A |\n",
      "+-------------------------------+----------------------+----------------------+\n",
      "                                                                               \n",
      "+-----------------------------------------------------------------------------+\n",
      "| Processes:                                                                  |\n",
      "|  GPU   GI   CI        PID   Type   Process name                  GPU Memory |\n",
      "|        ID   ID                                                   Usage      |\n",
      "|=============================================================================|\n",
      "|  No running processes found                                                 |\n",
      "+-----------------------------------------------------------------------------+\n"
     ]
    }
   ],
   "source": [
    "device = 'cuda' if torch.cuda.is_available() else 'cpu'\n",
    "print(f'Coda Running in {device}')\n",
    "!nvidia-smi"
   ]
  },
  {
   "cell_type": "code",
   "execution_count": 5,
   "id": "ffa4a11a-a1d9-474d-83fd-6576eaa3dcf0",
   "metadata": {},
   "outputs": [],
   "source": [
    "TEXT = data.Field(tokenize='spacy',tokenizer_language='en_core_web_sm')\n",
    "LABEL = data.LabelField(dtype = torch.float)"
   ]
  },
  {
   "cell_type": "code",
   "execution_count": 6,
   "id": "6c5cb120-7584-4bbb-bbeb-ec20bc9f2251",
   "metadata": {},
   "outputs": [],
   "source": [
    "train_data,test_data=datasets.IMDB.splits(TEXT,LABEL,root = './')"
   ]
  },
  {
   "cell_type": "code",
   "execution_count": 7,
   "id": "35bfefd1-069e-47d7-8af4-4f78d651c4cb",
   "metadata": {},
   "outputs": [
    {
     "data": {
      "text/plain": [
       "25000"
      ]
     },
     "execution_count": 7,
     "metadata": {},
     "output_type": "execute_result"
    },
    {
     "data": {
      "text/plain": [
       "25000"
      ]
     },
     "execution_count": 7,
     "metadata": {},
     "output_type": "execute_result"
    }
   ],
   "source": [
    "len(train_data)\n",
    "len(test_data)"
   ]
  },
  {
   "cell_type": "code",
   "execution_count": 8,
   "id": "20c53392-d954-494a-98ab-9df2a752110f",
   "metadata": {},
   "outputs": [],
   "source": [
    "train_data,valid_data = train_data.split(split_ratio=0.7)"
   ]
  },
  {
   "cell_type": "code",
   "execution_count": 9,
   "id": "7999b88e-58a7-4357-bc85-78f66ee92b9d",
   "metadata": {},
   "outputs": [
    {
     "data": {
      "text/plain": [
       "17500"
      ]
     },
     "execution_count": 9,
     "metadata": {},
     "output_type": "execute_result"
    },
    {
     "data": {
      "text/plain": [
       "7500"
      ]
     },
     "execution_count": 9,
     "metadata": {},
     "output_type": "execute_result"
    }
   ],
   "source": [
    "len(train_data)\n",
    "len(valid_data)"
   ]
  },
  {
   "cell_type": "markdown",
   "id": "20336ea5-889a-4857-ba74-8b8da2a5a6b2",
   "metadata": {},
   "source": [
    "### Let's Build the Vocab from the Train data we got by help of Spacy TEXT"
   ]
  },
  {
   "cell_type": "code",
   "execution_count": 10,
   "id": "54cff08b-3eaf-4454-9861-15c58926d5e3",
   "metadata": {},
   "outputs": [],
   "source": [
    "TEXT.build_vocab(train_data,max_size = 25_000)\n",
    "LABEL.build_vocab(train_data)"
   ]
  },
  {
   "cell_type": "code",
   "execution_count": 11,
   "id": "96dd8805-43a5-4f09-a4cb-f3202f468def",
   "metadata": {},
   "outputs": [
    {
     "data": {
      "text/plain": [
       "25002"
      ]
     },
     "execution_count": 11,
     "metadata": {},
     "output_type": "execute_result"
    },
    {
     "data": {
      "text/plain": [
       "2"
      ]
     },
     "execution_count": 11,
     "metadata": {},
     "output_type": "execute_result"
    }
   ],
   "source": [
    "len(TEXT.vocab)\n",
    "len(LABEL.vocab)"
   ]
  },
  {
   "cell_type": "code",
   "execution_count": 12,
   "id": "476f35da-50bf-4933-a7d8-ca12024d0e1a",
   "metadata": {},
   "outputs": [
    {
     "data": {
      "text/plain": [
       "['<unk>', '<pad>', 'the', ',', '.', 'and', 'a', 'of', 'to', 'is']"
      ]
     },
     "execution_count": 12,
     "metadata": {},
     "output_type": "execute_result"
    },
    {
     "data": {
      "text/plain": [
       "['neg', 'pos']"
      ]
     },
     "execution_count": 12,
     "metadata": {},
     "output_type": "execute_result"
    }
   ],
   "source": [
    "TEXT.vocab.itos[:10]\n",
    "LABEL.vocab.itos[:4]"
   ]
  },
  {
   "cell_type": "code",
   "execution_count": 13,
   "id": "28f9b12c-567c-49db-9eb7-de854c28f611",
   "metadata": {},
   "outputs": [],
   "source": [
    "train_iter,valid_iter,test_iter = data.BucketIterator.splits((train_data,valid_data,test_data),batch_size=64,device = device)"
   ]
  },
  {
   "cell_type": "code",
   "execution_count": 14,
   "id": "82401861-c9d3-4061-abc9-1937dbe22906",
   "metadata": {},
   "outputs": [],
   "source": [
    "import torch.nn as nn"
   ]
  },
  {
   "cell_type": "code",
   "execution_count": 15,
   "id": "70f882ff-b988-445e-a35c-70c88d163dba",
   "metadata": {},
   "outputs": [],
   "source": [
    "class RNN_model(nn.Module):\n",
    "    \n",
    "    def __init__(self,input_dim,embedding_dim,hidden_dim,out_dim):\n",
    "        super().__init__()\n",
    "        self.embedding = nn.Embedding(num_embeddings=input_dim,embedding_dim = embedding_dim,)\n",
    "        self.rnn = nn.RNN(input_size = embedding_dim,hidden_size = hidden_dim,num_layers = 1,bias = True)\n",
    "        self.fc = nn.Linear(in_features=hidden_dim,out_features=out_dim)\n",
    "        \n",
    "    def forward(self,text):\n",
    "        embedding = self.embedding(text)\n",
    "        output,hidden = self.rnn(embedding)\n",
    "        \n",
    "        # assert \n",
    "        return self.fc(hidden.squeeze(0))"
   ]
  },
  {
   "cell_type": "code",
   "execution_count": 16,
   "id": "d13b00b2-389c-4761-8179-0b6c58777cd9",
   "metadata": {},
   "outputs": [
    {
     "data": {
      "text/plain": [
       "25002"
      ]
     },
     "execution_count": 16,
     "metadata": {},
     "output_type": "execute_result"
    }
   ],
   "source": [
    "len(TEXT.vocab)"
   ]
  },
  {
   "cell_type": "code",
   "execution_count": 17,
   "id": "523d73d5-8b4f-4bcd-adb0-fba0747952a7",
   "metadata": {},
   "outputs": [],
   "source": [
    "Input_dim = len(TEXT.vocab)\n",
    "Embedding_dim = 100\n",
    "Hidden_dim = 256\n",
    "Output_dim = 1"
   ]
  },
  {
   "cell_type": "code",
   "execution_count": 18,
   "id": "42103329-1773-4357-9c0f-3898f40d0176",
   "metadata": {},
   "outputs": [],
   "source": [
    "model = RNN_model(input_dim=Input_dim,embedding_dim=Embedding_dim,hidden_dim=Hidden_dim,out_dim=Output_dim)"
   ]
  },
  {
   "cell_type": "code",
   "execution_count": 19,
   "id": "3d20c959-1dc8-4a4b-a03e-633a0fdcef6a",
   "metadata": {},
   "outputs": [
    {
     "data": {
      "text/plain": [
       "RNN_model(\n",
       "  (embedding): Embedding(25002, 100)\n",
       "  (rnn): RNN(100, 256)\n",
       "  (fc): Linear(in_features=256, out_features=1, bias=True)\n",
       ")"
      ]
     },
     "execution_count": 19,
     "metadata": {},
     "output_type": "execute_result"
    }
   ],
   "source": [
    "model.to(device)"
   ]
  },
  {
   "cell_type": "raw",
   "id": "240a325f-602e-4ec7-8ebb-494fb46e6cf2",
   "metadata": {},
   "source": [
    "self.embedding = nn.Embedding(num_embeddings=25000,embedding_dim = 100)\n",
    "self.rnn = nn.RNN(100,256)\n",
    "self.fc = nn.Linear(in_features=256,out_features=1)"
   ]
  },
  {
   "cell_type": "code",
   "execution_count": 20,
   "id": "83cea1ec-cfea-497b-9b84-0be38bac866b",
   "metadata": {},
   "outputs": [
    {
     "name": "stdout",
     "output_type": "stream",
     "text": [
      "2500200\n",
      "25600\n",
      "65536\n",
      "256\n",
      "256\n",
      "256\n",
      "1\n"
     ]
    }
   ],
   "source": [
    "for p in model.parameters():\n",
    "    print (p.numel())"
   ]
  },
  {
   "cell_type": "raw",
   "id": "32ce19ca-d706-4f77-8836-bf039f9fca13",
   "metadata": {},
   "source": [
    "2500200 === 25002 * 100\n",
    "25600 = 100*256\n",
    "65536 = 256*256\n",
    "256 = bias\n",
    "256 = bias\n",
    "256 = 256 *1\n",
    "1 = output "
   ]
  },
  {
   "cell_type": "code",
   "execution_count": 21,
   "id": "de0839cd-0c79-4888-8c51-f52bdfc09b9a",
   "metadata": {},
   "outputs": [],
   "source": [
    "from torch.optim import SGD"
   ]
  },
  {
   "cell_type": "code",
   "execution_count": 22,
   "id": "818921f1-1c61-41ef-9736-99322d81a1ef",
   "metadata": {},
   "outputs": [],
   "source": [
    "optimizer  = SGD(model.parameters(),lr = 0.001,momentum = 0.9)"
   ]
  },
  {
   "cell_type": "code",
   "execution_count": 23,
   "id": "6eaa6344-b1b2-4522-a884-80b3e91666e0",
   "metadata": {},
   "outputs": [
    {
     "data": {
      "text/plain": [
       "BCEWithLogitsLoss()"
      ]
     },
     "execution_count": 23,
     "metadata": {},
     "output_type": "execute_result"
    }
   ],
   "source": [
    "criterion = nn.BCEWithLogitsLoss()\n",
    "criterion.to(device)"
   ]
  },
  {
   "cell_type": "code",
   "execution_count": 24,
   "id": "58934006-31fd-4c10-b8fc-979f229e52f7",
   "metadata": {},
   "outputs": [],
   "source": [
    "from tqdm import tqdm"
   ]
  },
  {
   "cell_type": "code",
   "execution_count": 25,
   "id": "9ebac4fd-df4a-47f0-8b10-60147ded5291",
   "metadata": {},
   "outputs": [],
   "source": [
    "def accuracy(pred,target):\n",
    "    rounded_pred = torch.round(torch.sigmoid(pred))\n",
    "    correct  = (rounded_pred==target).float()\n",
    "    return correct.sum()/len(correct)"
   ]
  },
  {
   "cell_type": "code",
   "execution_count": null,
   "id": "8efa726a-e474-4915-b5ec-b9608a834793",
   "metadata": {},
   "outputs": [],
   "source": []
  },
  {
   "cell_type": "code",
   "execution_count": 35,
   "id": "5b4dbf0c-644a-4865-92d3-e9c3a6ca3d00",
   "metadata": {},
   "outputs": [],
   "source": [
    "def train(model,train_loader,criterion,optimizer,epoch):\n",
    "    train_loss = []\n",
    "    train_accuracy = []\n",
    "    model.train()\n",
    "    pbar = tqdm(train_loader)\n",
    "    for index,(data,target) in enumerate(pbar):\n",
    "        data,targe= data.to(device),target.to(device)\n",
    "        optimizer.zero_grad()\n",
    "        prediction = model(data).squeeze()\n",
    "        loss = criterion(prediction,target)\n",
    "        acc = accuracy(prediction,target)\n",
    "        loss.backward()\n",
    "        optimizer.step()\n",
    "        pbar.set_description(f\"Epohs: {epoch} ,Batch {index} , loss {loss} accuracy {acc}\")\n",
    "    train_loss.append(loss)\n",
    "    train_accuracy.append(acc)\n",
    "    return None"
   ]
  },
  {
   "cell_type": "code",
   "execution_count": 36,
   "id": "9e69a91f-9adb-486f-907a-108ce12e701f",
   "metadata": {},
   "outputs": [],
   "source": [
    "def test(model,test_loader,criterion,epoch):\n",
    "    model.eval()\n",
    "    with torch.no_grad():\n",
    "        for batch_id, (data,target) in enumerate(test_loader):\n",
    "            data,target = data.to(device),target.to(device)\n",
    "            prediction = model(data).squeeze(1)\n",
    "            loss = criterion(prediction,target)\n",
    "            acc =  accuracy(prediction,target)\n",
    "        print(f'Epoch {epoch},loss {loss} acc = {acc}')\n",
    "        return None"
   ]
  },
  {
   "cell_type": "code",
   "execution_count": 37,
   "id": "f10d719b-be40-4134-b1c3-5046874a368d",
   "metadata": {},
   "outputs": [
    {
     "name": "stderr",
     "output_type": "stream",
     "text": [
      "Epohs: 0 ,Batch 273 , loss 0.6979926824569702 accuracy 0.453125: 100%|█| 274/274 [00:15<00:00, 17.56i\n"
     ]
    },
    {
     "name": "stdout",
     "output_type": "stream",
     "text": [
      "Epoch 0,loss 0.6844062209129333 acc = 0.6000000238418579\n"
     ]
    },
    {
     "name": "stderr",
     "output_type": "stream",
     "text": [
      "Epohs: 1 ,Batch 273 , loss 0.6944852471351624 accuracy 0.46875: 100%|█| 274/274 [00:15<00:00, 17.76it\n"
     ]
    },
    {
     "name": "stdout",
     "output_type": "stream",
     "text": [
      "Epoch 1,loss 0.6894698739051819 acc = 0.6000000238418579\n"
     ]
    },
    {
     "name": "stderr",
     "output_type": "stream",
     "text": [
      "Epohs: 2 ,Batch 273 , loss 0.693769097328186 accuracy 0.5: 100%|███| 274/274 [00:15<00:00, 17.83it/s]\n"
     ]
    },
    {
     "name": "stdout",
     "output_type": "stream",
     "text": [
      "Epoch 2,loss 0.6841009259223938 acc = 0.6000000238418579\n"
     ]
    },
    {
     "name": "stderr",
     "output_type": "stream",
     "text": [
      "Epohs: 3 ,Batch 273 , loss 0.6870142221450806 accuracy 0.5625: 100%|█| 274/274 [00:15<00:00, 17.85it/\n"
     ]
    },
    {
     "name": "stdout",
     "output_type": "stream",
     "text": [
      "Epoch 3,loss 0.6791644096374512 acc = 0.6000000238418579\n"
     ]
    },
    {
     "name": "stderr",
     "output_type": "stream",
     "text": [
      "Epohs: 4 ,Batch 273 , loss 0.6920653581619263 accuracy 0.53125: 100%|█| 274/274 [00:15<00:00, 17.77it\n"
     ]
    },
    {
     "name": "stdout",
     "output_type": "stream",
     "text": [
      "Epoch 4,loss 0.6852030158042908 acc = 0.6000000238418579\n"
     ]
    },
    {
     "name": "stderr",
     "output_type": "stream",
     "text": [
      "Epohs: 5 ,Batch 273 , loss 0.6898888349533081 accuracy 0.59375: 100%|█| 274/274 [00:15<00:00, 17.99it\n"
     ]
    },
    {
     "name": "stdout",
     "output_type": "stream",
     "text": [
      "Epoch 5,loss 0.6876097917556763 acc = 0.6000000238418579\n"
     ]
    },
    {
     "name": "stderr",
     "output_type": "stream",
     "text": [
      "Epohs: 6 ,Batch 273 , loss 0.6940447092056274 accuracy 0.421875: 100%|█| 274/274 [00:15<00:00, 18.10i\n"
     ]
    },
    {
     "name": "stdout",
     "output_type": "stream",
     "text": [
      "Epoch 6,loss 0.6895114183425903 acc = 0.42500001192092896\n"
     ]
    },
    {
     "name": "stderr",
     "output_type": "stream",
     "text": [
      "Epohs: 7 ,Batch 273 , loss 0.685721755027771 accuracy 0.59375: 100%|█| 274/274 [00:15<00:00, 17.92it/\n"
     ]
    },
    {
     "name": "stdout",
     "output_type": "stream",
     "text": [
      "Epoch 7,loss 0.6965799331665039 acc = 0.42500001192092896\n"
     ]
    },
    {
     "name": "stderr",
     "output_type": "stream",
     "text": [
      "Epohs: 8 ,Batch 273 , loss 0.6928951740264893 accuracy 0.515625: 100%|█| 274/274 [00:15<00:00, 17.99i\n"
     ]
    },
    {
     "name": "stdout",
     "output_type": "stream",
     "text": [
      "Epoch 8,loss 0.6890819072723389 acc = 0.6000000238418579\n"
     ]
    },
    {
     "name": "stderr",
     "output_type": "stream",
     "text": [
      "Epohs: 9 ,Batch 273 , loss 0.6956332921981812 accuracy 0.46875: 100%|█| 274/274 [00:15<00:00, 17.87it\n"
     ]
    },
    {
     "name": "stdout",
     "output_type": "stream",
     "text": [
      "Epoch 9,loss 0.6959691047668457 acc = 0.42500001192092896\n"
     ]
    }
   ],
   "source": [
    "epochs = 10\n",
    "for epoch in range(epochs):\n",
    "    train(model = model,train_loader=train_iter,criterion=criterion,optimizer=optimizer,epoch= epoch)\n",
    "    test(model,test_iter,criterion,epoch = epoch)"
   ]
  },
  {
   "cell_type": "code",
   "execution_count": null,
   "id": "4c8b2e0a-e310-4a45-9f3d-61bf6527ca43",
   "metadata": {},
   "outputs": [],
   "source": []
  },
  {
   "cell_type": "code",
   "execution_count": null,
   "id": "4a377603-8da7-4e5d-b1b8-574cb1c07913",
   "metadata": {},
   "outputs": [],
   "source": []
  },
  {
   "cell_type": "code",
   "execution_count": null,
   "id": "0609780b-dd20-4974-b993-5a452a655fcf",
   "metadata": {},
   "outputs": [],
   "source": []
  },
  {
   "cell_type": "code",
   "execution_count": null,
   "id": "885c4901-1655-4bd8-b274-68b2a2acc066",
   "metadata": {},
   "outputs": [],
   "source": []
  },
  {
   "cell_type": "code",
   "execution_count": null,
   "id": "c6025067-c5ec-4909-b5f5-b527e383f1b6",
   "metadata": {},
   "outputs": [],
   "source": []
  }
 ],
 "metadata": {
  "kernelspec": {
   "display_name": "Python 3 (ipykernel)",
   "language": "python",
   "name": "python3"
  },
  "language_info": {
   "codemirror_mode": {
    "name": "ipython",
    "version": 3
   },
   "file_extension": ".py",
   "mimetype": "text/x-python",
   "name": "python",
   "nbconvert_exporter": "python",
   "pygments_lexer": "ipython3",
   "version": "3.9.12"
  },
  "widgets": {
   "application/vnd.jupyter.widget-state+json": {
    "state": {},
    "version_major": 2,
    "version_minor": 0
   }
  }
 },
 "nbformat": 4,
 "nbformat_minor": 5
}
