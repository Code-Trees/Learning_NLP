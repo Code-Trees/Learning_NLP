{
 "cells": [
  {
   "cell_type": "raw",
   "id": "33be20f3-17b0-46a3-922e-c8e878596095",
   "metadata": {},
   "source": [
    "conda install pytorch torchvision torchaudio cudatoolkit=11.3 -c pytorch\n",
    "pip install torchtext==0.6.0\n",
    "pip install spacy\n",
    "python -m spacy download en_core_web_sm"
   ]
  }
 ],
 "metadata": {
  "kernelspec": {
   "display_name": "Python 3 (ipykernel)",
   "language": "python",
   "name": "python3"
  },
  "language_info": {
   "codemirror_mode": {
    "name": "ipython",
    "version": 3
   },
   "file_extension": ".py",
   "mimetype": "text/x-python",
   "name": "python",
   "nbconvert_exporter": "python",
   "pygments_lexer": "ipython3",
   "version": "3.9.12"
  },
  "widgets": {
   "application/vnd.jupyter.widget-state+json": {
    "state": {},
    "version_major": 2,
    "version_minor": 0
   }
  }
 },
 "nbformat": 4,
 "nbformat_minor": 5
}
